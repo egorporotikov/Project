{
 "cells": [
  {
   "cell_type": "code",
   "execution_count": 35,
   "id": "be09d780-0880-4451-8f5a-532574ae2952",
   "metadata": {},
   "outputs": [
    {
     "name": "stdout",
     "output_type": "stream",
     "text": [
      "[\"a\", \"b\", \"d\"] | [\"B\"] | [\"c\"]\n"
     ]
    }
   ],
   "source": [
    "let file1 = \"a\\nb\\nc\\nd\";\n",
    "let file2 = \"B\\nc\";\n",
    "\n",
    "let mut both: Vec<&str> = Vec::new();\n",
    "let first: Vec<&str> = file1.lines().collect();\n",
    "let second: Vec<&str> = file2.lines().collect();\n",
    "\n",
    "// Find lines that are present in both files\n",
    "for line1 in file1.lines() {\n",
    "    for line2 in file2.lines() {\n",
    "        if line1 == line2 {\n",
    "            both.push(line1);\n",
    "        }\n",
    "    }\n",
    "}\n",
    "\n",
    "// Filter lines equal to \"c\" in `first` and `second`\n",
    "let first_filtered: Vec<&str> = first.into_iter().filter(|&c| c != \"c\").collect();\n",
    "let second_filtered: Vec<&str> = second.into_iter().filter(|&c| c != \"c\").collect();\n",
    "\n",
    "println!(\"{:?} | {:?} | {:?}\", first_filtered, second_filtered, both);\n",
    "\n",
    "\n"
   ]
  },
  {
   "cell_type": "markdown",
   "id": "19cab541-181e-4884-986d-cd93684d5669",
   "metadata": {},
   "source": [
    "# Current Output\n",
    "\n",
    "| First |  Second | Both |\n",
    "| ---   |  ---    | ---  |\n",
    "| a     | B       | c    |\n",
    "| b     |         |      |\n",
    "| d     |         |      |\n",
    "\n",
    " "
   ]
  }
 ],
 "metadata": {
  "kernelspec": {
   "display_name": "Rust",
   "language": "rust",
   "name": "rust"
  },
  "language_info": {
   "codemirror_mode": "rust",
   "file_extension": ".rs",
   "mimetype": "text/rust",
   "name": "Rust",
   "pygment_lexer": "rust",
   "version": ""
  }
 },
 "nbformat": 4,
 "nbformat_minor": 5
}
